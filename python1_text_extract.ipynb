{
  "nbformat": 4,
  "nbformat_minor": 0,
  "metadata": {
    "colab": {
      "provenance": []
    },
    "kernelspec": {
      "name": "python3",
      "display_name": "Python 3"
    },
    "language_info": {
      "name": "python"
    }
  },
  "cells": [
    {
      "cell_type": "code",
      "execution_count": 112,
      "metadata": {
        "colab": {
          "base_uri": "https://localhost:8080/"
        },
        "id": "lS9dfIvHZxz_",
        "outputId": "cc6a0f49-ddcb-458b-adf0-dfe1cfbd2792"
      },
      "outputs": [
        {
          "output_type": "stream",
          "name": "stdout",
          "text": [
            "Drive already mounted at /content/drive; to attempt to forcibly remount, call drive.mount(\"/content/drive\", force_remount=True).\n",
            "\n",
            "Question 1. What is the correct file extension for Python files?\n",
            "\n",
            "Choice A. .py B. .python C. .p D. .pt\n",
            "\n",
            "Enter your answer (A/B/C/D): a\n",
            "-------------------------------------------------------\n",
            "\n",
            "Question 2. Which keyword is used to define a function in Python ?\n",
            "\n",
            "Choice A.func B.define C.def D.function\n",
            "\n",
            "Enter your answer (A/B/C/D): a\n",
            "-------------------------------------------------------\n",
            "\n",
            "Question 3. What will be the output of print(2 ** 3) ?\n",
            "\n",
            "Choice A.2 B.8 C.5 D.6\n",
            "\n",
            "Enter your answer (A/B/C/D): a\n",
            "-------------------------------------------------------\n",
            "\n",
            "Question 4. Which function is used to take user input?\n",
            "\n",
            "Choice A.scan() B.get() C.input() D.read()\n",
            "\n",
            "Enter your answer (A/B/C/D): a\n",
            "-------------------------------------------------------\n",
            "\n",
            "Question 5. What is the default data type of input() function ?\n",
            "\n",
            "Choice A.int B.float C.string D.boolean\n",
            "\n",
            "Enter your answer (A/B/C/D): a\n",
            "-------------------------------------------------------\n",
            "\n",
            "Question 6. Which keyword is used to exit a loop ?\n",
            "\n",
            "Choice A.exit B.break C.stop D.pass\n",
            "\n",
            "Enter your answer (A/B/C/D): a\n",
            "-------------------------------------------------------\n",
            "\n",
            "Question 7. Which keyword is used to import a module?\n",
            "\n",
            "Choice A.import B.include C.require D.use\n",
            "\n",
            "Enter your answer (A/B/C/D): a\n",
            "-------------------------------------------------------\n",
            "\n",
            "Question 8. What is the output of len(\"Python\")?\n",
            "\n",
            "Choice A.5 B.6 C.7 D.8\n",
            "\n",
            "Enter your answer (A/B/C/D): a\n",
            "-------------------------------------------------------\n",
            "Your Final Score: 8/8\n"
          ]
        }
      ],
      "source": [
        "# !sudo apt install tesseract-ocr\n",
        "# !pip install pytesseract\n",
        "import pytesseract\n",
        "from PIL import Image\n",
        "from google.colab import drive\n",
        "drive.mount('/content/drive')\n",
        "pytesseract.pytesseract.tesseract_cmd = r\"/content/drive/MyDrive/My_folder/py/Programs/Tesseract-OCR/tesseract.exe\"\n",
        "\n",
        "image_path = r\"/content/sample.jpg\"\n",
        "\n",
        "img = Image.open(image_path)\n",
        "\n",
        "pytesseract.pytesseract.tesseract_cmd = r\"/usr/bin/tesseract\"\n",
        "extracted_text = pytesseract.image_to_string(img)\n",
        "\n",
        "lines = extracted_text.split(\"\\n\")\n",
        "\n",
        "question_lines = []\n",
        "for line in lines:\n",
        "    if \"Question\" in line:\n",
        "        question_lines.append(line)\n",
        "\n",
        "\n",
        "choice_lines = []\n",
        "for line in lines:\n",
        "    if \"Choice\" in line:\n",
        "        choice_lines.append(line)\n",
        "\n",
        "# Manually define correct answers\n",
        "correct_answers = [\"A\", \"A\", \"A\", \"A\", \"A\", \"A\", \"A\",\"A\"]\n",
        "\n",
        "\n",
        "num_questions = min(len(question_lines), len(choice_lines))\n",
        "\n",
        "\n",
        "if len(correct_answers) < num_questions:\n",
        "    print(\"Error: Not enough correct answers provided!\")\n",
        "    exit()\n",
        "\n",
        "\n",
        "questions_list = []\n",
        "for i in range(num_questions):\n",
        "    question_data = {\n",
        "        \"question\": question_lines[i],\n",
        "        \"choices\": choice_lines[i],\n",
        "        \"correct_answer\": correct_answers[i]\n",
        "    }\n",
        "    questions_list.append(question_data)\n",
        "\n",
        "score = 0\n",
        "\n",
        "\n",
        "for q in questions_list:\n",
        "    print(f\"\\n{q['question']}\")\n",
        "    print(f\"\\n{q['choices']}\")\n",
        "\n",
        "    while True:\n",
        "        user_answer = input(\"\\nEnter your answer (A/B/C/D): \").strip().upper()\n",
        "        if user_answer in [\"A\", \"B\", \"C\", \"D\"]:\n",
        "            break\n",
        "        print(\"Invalid input! Please enter A, B, C, or D.\")\n",
        "\n",
        "    print(\"-------------------------------------------------------\")\n",
        "\n",
        "    if user_answer == q['correct_answer']:\n",
        "        score += 1\n",
        "    else:\n",
        "        pass\n",
        "\n",
        "print(f\"Your Final Score: {score}/{num_questions}\")\n"
      ]
    },
    {
      "cell_type": "code",
      "source": [
        "import pytesseract\n",
        "from PIL import Image\n",
        "from google.colab import drive\n",
        "drive.mount('/content/drive')\n",
        "pytesseract.pytesseract.tesseract_cmd = r\"/content/drive/MyDrive/My_folder/py/Programs/Tesseract-OCR/tesseract.exe\"\n",
        "\n",
        "image_path = r\"/content/TMP_RichTextLineIndent.png\"\n",
        "\n",
        "img = Image.open(image_path)\n",
        "\n",
        "pytesseract.pytesseract.tesseract_cmd = r\"/usr/bin/tesseract\"\n",
        "extracted_text = pytesseract.image_to_string(img)\n",
        "print(extracted_text)"
      ],
      "metadata": {
        "colab": {
          "base_uri": "https://localhost:8080/"
        },
        "id": "UgRweiK1nJkc",
        "outputId": "90d28e2d-5e65-4a86-a458-a3914753572c"
      },
      "execution_count": 115,
      "outputs": [
        {
          "output_type": "stream",
          "name": "stdout",
          "text": [
            "Drive already mounted at /content/drive; to attempt to forcibly remount, call drive.mount(\"/content/drive\", force_remount=True).\n",
            "This is the first line of\n",
            "this text example.\n",
            "\n",
            "This is the second line\n",
            "of the same text.\n",
            "\f\n"
          ]
        }
      ]
    },
    {
      "cell_type": "code",
      "source": [],
      "metadata": {
        "id": "wqJkWSTJo1yD"
      },
      "execution_count": null,
      "outputs": []
    }
  ]
}